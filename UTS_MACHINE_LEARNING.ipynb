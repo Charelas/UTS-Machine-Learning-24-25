{
  "nbformat": 4,
  "nbformat_minor": 0,
  "metadata": {
    "colab": {
      "provenance": []
    },
    "kernelspec": {
      "name": "python3",
      "display_name": "Python 3"
    },
    "language_info": {
      "name": "python"
    }
  },
  "cells": [
    {
      "cell_type": "markdown",
      "source": [
        "**UTS Machine Learning**"
      ],
      "metadata": {
        "id": "7GACelOQ6dY2"
      }
    },
    {
      "cell_type": "code",
      "source": [
        "import pandas as pd\n",
        "\n",
        "# Membaca file CSV dari URL\n",
        "url = \"https://raw.githubusercontent.com/isnanmulia/lecture-datasets/main/mobileprice_modified.csv\"\n",
        "df = pd.read_csv(url)\n",
        "\n",
        "# Melihat informasi umum dari dataset\n",
        "print(\"Informasi Dataset:\")\n",
        "print(df.info())\n",
        "\n",
        "# Menampilkan contoh data\n",
        "print(\"\\nContoh data:\")\n",
        "print(df.head())\n",
        "\n",
        "# Menghitung jumlah nilai unik di setiap atribut\n",
        "print(\"\\nJumlah nilai unik dalam setiap atribut:\")\n",
        "unique_values = {}\n",
        "for col in df.columns:\n",
        "    unique_count = df[col].nunique()\n",
        "    unique_values[col] = unique_count\n",
        "    print(f\"{col} - Unique values: {unique_count}\")\n",
        "\n",
        "    # Jika jumlah nilai unik rendah (misalnya, di bawah 10), anggap sebagai atribut kategorik\n",
        "    if unique_count < 10:\n",
        "        print(f\"Values in {col}: {df[col].unique()}\")\n"
      ],
      "metadata": {
        "colab": {
          "base_uri": "https://localhost:8080/"
        },
        "id": "ODMmO7ta7edv",
        "outputId": "dc87add2-7f18-4f98-cc17-41a0ce786536"
      },
      "execution_count": null,
      "outputs": [
        {
          "output_type": "stream",
          "name": "stdout",
          "text": [
            "Informasi Dataset:\n",
            "<class 'pandas.core.frame.DataFrame'>\n",
            "RangeIndex: 2000 entries, 0 to 1999\n",
            "Data columns (total 21 columns):\n",
            " #   Column         Non-Null Count  Dtype  \n",
            "---  ------         --------------  -----  \n",
            " 0   battery_power  1990 non-null   float64\n",
            " 1   blue           2000 non-null   int64  \n",
            " 2   clock_speed    2000 non-null   float64\n",
            " 3   dual_sim       2000 non-null   int64  \n",
            " 4   fc             2000 non-null   int64  \n",
            " 5   four_g         2000 non-null   int64  \n",
            " 6   int_memory     1990 non-null   float64\n",
            " 7   m_dep          2000 non-null   float64\n",
            " 8   mobile_wt      1990 non-null   float64\n",
            " 9   n_cores        2000 non-null   int64  \n",
            " 10  pc             2000 non-null   int64  \n",
            " 11  px_height      2000 non-null   int64  \n",
            " 12  px_width       2000 non-null   int64  \n",
            " 13  ram            1990 non-null   float64\n",
            " 14  sc_h           2000 non-null   int64  \n",
            " 15  sc_w           2000 non-null   int64  \n",
            " 16  talk_time      2000 non-null   int64  \n",
            " 17  three_g        2000 non-null   int64  \n",
            " 18  touch_screen   2000 non-null   int64  \n",
            " 19  wifi           2000 non-null   int64  \n",
            " 20  price_range    2000 non-null   int64  \n",
            "dtypes: float64(6), int64(15)\n",
            "memory usage: 328.2 KB\n",
            "None\n",
            "\n",
            "Contoh data:\n",
            "   battery_power  blue  clock_speed  dual_sim  fc  four_g  int_memory  m_dep  \\\n",
            "0          842.0     0          2.2         0   1       0         7.0    0.6   \n",
            "1         1021.0     1          0.5         1   0       1        53.0    0.7   \n",
            "2          563.0     1          0.5         1   2       1        41.0    0.9   \n",
            "3          615.0     1          2.5         0   0       0        10.0    0.8   \n",
            "4         1821.0     1          1.2         0  13       1        44.0    0.6   \n",
            "\n",
            "   mobile_wt  n_cores  ...  px_height  px_width     ram  sc_h  sc_w  \\\n",
            "0      188.0        2  ...         20       756     NaN     9     7   \n",
            "1      136.0        3  ...        905      1988  2631.0    17     3   \n",
            "2      145.0        5  ...       1263      1716  2603.0    11     2   \n",
            "3      131.0        6  ...       1216      1786  2769.0    16     8   \n",
            "4      141.0        2  ...       1208      1212  1411.0     8     2   \n",
            "\n",
            "   talk_time  three_g  touch_screen  wifi  price_range  \n",
            "0         19        0             0     1            1  \n",
            "1          7        1             1     0            2  \n",
            "2          9        1             1     0            2  \n",
            "3         11        1             0     0            2  \n",
            "4         15        1             1     0            1  \n",
            "\n",
            "[5 rows x 21 columns]\n",
            "\n",
            "Jumlah nilai unik dalam setiap atribut:\n",
            "battery_power - Unique values: 1093\n",
            "blue - Unique values: 2\n",
            "Values in blue: [0 1]\n",
            "clock_speed - Unique values: 26\n",
            "dual_sim - Unique values: 2\n",
            "Values in dual_sim: [0 1]\n",
            "fc - Unique values: 20\n",
            "four_g - Unique values: 2\n",
            "Values in four_g: [0 1]\n",
            "int_memory - Unique values: 63\n",
            "m_dep - Unique values: 10\n",
            "mobile_wt - Unique values: 121\n",
            "n_cores - Unique values: 8\n",
            "Values in n_cores: [2 3 5 6 1 8 4 7]\n",
            "pc - Unique values: 21\n",
            "px_height - Unique values: 1137\n",
            "px_width - Unique values: 1109\n",
            "ram - Unique values: 1558\n",
            "sc_h - Unique values: 15\n",
            "sc_w - Unique values: 19\n",
            "talk_time - Unique values: 19\n",
            "three_g - Unique values: 2\n",
            "Values in three_g: [0 1]\n",
            "touch_screen - Unique values: 2\n",
            "Values in touch_screen: [0 1]\n",
            "wifi - Unique values: 2\n",
            "Values in wifi: [1 0]\n",
            "price_range - Unique values: 4\n",
            "Values in price_range: [1 2 3 0]\n"
          ]
        }
      ]
    }
  ]
}